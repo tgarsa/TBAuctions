{
 "cells": [
  {
   "cell_type": "code",
   "execution_count": null,
   "id": "c8045439",
   "metadata": {},
   "outputs": [],
   "source": [
    "# The expected imports\n",
    "\n",
    "import pandas as pd\n",
    "import numpy as np\n",
    "\n",
    "# to have access to the web service\n",
    "import requests"
   ]
  },
  {
   "cell_type": "markdown",
   "id": "aad4cab2",
   "metadata": {},
   "source": [
    "# Define the connexion."
   ]
  },
  {
   "cell_type": "code",
   "execution_count": null,
   "id": "f98345a7",
   "metadata": {},
   "outputs": [],
   "source": [
    "# The IP of the docker server\n",
    "\n",
    "# Mac ip\n",
    "# ip = \"192.168.178.36\"\n",
    "# Raspberry pi 3 IP\n",
    "# ip = \"192.168.178.172\"\n",
    "# From external connexions. \n",
    "ip = \"saizvirtual.ddns.net\""
   ]
  },
  {
   "cell_type": "markdown",
   "id": "e21e7b35",
   "metadata": {},
   "source": [
    "# Load Data"
   ]
  },
  {
   "cell_type": "code",
   "execution_count": null,
   "id": "ee37a7f0",
   "metadata": {},
   "outputs": [],
   "source": [
    "data = pd.read_csv('Examples/features.csv')"
   ]
  },
  {
   "cell_type": "code",
   "execution_count": null,
   "id": "a405cd5a",
   "metadata": {},
   "outputs": [],
   "source": [
    "# data"
   ]
  },
  {
   "cell_type": "code",
   "execution_count": null,
   "id": "ffabba60",
   "metadata": {},
   "outputs": [],
   "source": [
    "data_json = data.to_json()"
   ]
  },
  {
   "cell_type": "code",
   "execution_count": null,
   "id": "27f78117",
   "metadata": {},
   "outputs": [],
   "source": [
    "# data_json"
   ]
  },
  {
   "cell_type": "markdown",
   "id": "980d8ccf",
   "metadata": {},
   "source": [
    "# Security\n",
    "\n",
    "Load the Token"
   ]
  },
  {
   "cell_type": "code",
   "execution_count": null,
   "id": "f84a8601",
   "metadata": {},
   "outputs": [],
   "source": [
    "# URLs to connected with the app-service\n",
    "url = 'http://{}:5010/token'.format(ip)"
   ]
  },
  {
   "cell_type": "code",
   "execution_count": null,
   "id": "774ed858",
   "metadata": {
    "scrolled": false
   },
   "outputs": [],
   "source": [
    "resp = requests.post(url, data={'username': 'tgarsa', 'password':'secret'})\n",
    "# resp = requests.post(url, data={'username': 'alice', 'password':'secret'})\n",
    "resp"
   ]
  },
  {
   "cell_type": "code",
   "execution_count": null,
   "id": "25e9486b",
   "metadata": {},
   "outputs": [],
   "source": [
    "token = resp.json()['access_token']\n",
    "print('Token: {}'.format(token))\n",
    "\n",
    "token_type = resp.json()['token_type']\n",
    "print('Token Type: {}'.format(token_type))"
   ]
  },
  {
   "cell_type": "markdown",
   "id": "7c9b14fe",
   "metadata": {},
   "source": [
    "# Call to API to have the predictions"
   ]
  },
  {
   "cell_type": "code",
   "execution_count": null,
   "id": "d8c02296",
   "metadata": {},
   "outputs": [],
   "source": [
    "# URLs to connected with the app-service\n",
    "# in this case the port is \n",
    "\n",
    "url = 'http://{}:5010/train_model'.format(ip)"
   ]
  },
  {
   "cell_type": "code",
   "execution_count": null,
   "id": "4ea15734",
   "metadata": {},
   "outputs": [],
   "source": [
    "url"
   ]
  },
  {
   "cell_type": "code",
   "execution_count": null,
   "id": "1f190ba2",
   "metadata": {},
   "outputs": [],
   "source": [
    "resp = requests.post(url,\n",
    "                    headers = {'Authorization': f'{token_type} {token}'},\n",
    "                    json={'df_json': data_json})"
   ]
  },
  {
   "cell_type": "code",
   "execution_count": null,
   "id": "c6438575",
   "metadata": {},
   "outputs": [],
   "source": [
    "resp"
   ]
  },
  {
   "cell_type": "code",
   "execution_count": null,
   "id": "8ef95a28",
   "metadata": {},
   "outputs": [],
   "source": [
    "resp.json()"
   ]
  }
 ],
 "metadata": {
  "kernelspec": {
   "display_name": "Python 3 (ipykernel)",
   "language": "python",
   "name": "python3"
  },
  "language_info": {
   "codemirror_mode": {
    "name": "ipython",
    "version": 3
   },
   "file_extension": ".py",
   "mimetype": "text/x-python",
   "name": "python",
   "nbconvert_exporter": "python",
   "pygments_lexer": "ipython3",
   "version": "3.9.18"
  }
 },
 "nbformat": 4,
 "nbformat_minor": 5
}
